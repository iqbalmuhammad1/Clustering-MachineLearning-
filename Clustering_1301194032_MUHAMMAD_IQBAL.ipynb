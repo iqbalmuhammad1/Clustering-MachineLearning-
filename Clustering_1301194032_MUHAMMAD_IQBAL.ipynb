{
  "nbformat": 4,
  "nbformat_minor": 0,
  "metadata": {
    "colab": {
      "name": "Clustering_1301194032_MUHAMMAD_IQBAL.ipynb",
      "provenance": [],
      "collapsed_sections": [],
      "include_colab_link": true
    },
    "interpreter": {
      "hash": "14388ca568defe322aeab8729908ca889725a5c21760904d3bc2b9221a1bd3cf"
    },
    "kernelspec": {
      "display_name": "Python 3.9.7 64-bit",
      "name": "python3"
    },
    "language_info": {
      "codemirror_mode": {
        "name": "ipython",
        "version": 3
      },
      "file_extension": ".py",
      "mimetype": "text/x-python",
      "name": "python",
      "nbconvert_exporter": "python",
      "pygments_lexer": "ipython3",
      "version": "3.9.7"
    }
  },
  "cells": [
    {
      "cell_type": "markdown",
      "metadata": {
        "id": "view-in-github",
        "colab_type": "text"
      },
      "source": [
        "<a href=\"https://colab.research.google.com/github/iqbalmuhammad1/RPL-Desain-Implementasi/blob/main/Clustering_1301194032_MUHAMMAD_IQBAL.ipynb\" target=\"_parent\"><img src=\"https://colab.research.google.com/assets/colab-badge.svg\" alt=\"Open In Colab\"/></a>"
      ]
    },
    {
      "cell_type": "code",
      "metadata": {
        "id": "TV2nKfiDre8X"
      },
      "source": [
        "import numpy as np # untuk melakukan proses aritmatika\n",
        "import pandas as pd # untuk membantu dalam memproses dataframe\n",
        "import matplotlib.pyplot as plt # untuk membuat grafik statistik\n",
        "import seaborn as sns # untuk membuat grafik statistik\n",
        "from sklearn.preprocessing import MinMaxScaler # untuk melakukan preprocessing minmax scaller\n",
        "from matplotlib import style\n",
        "from copy import deepcopy\n",
        "import copy\n",
        "import random\n",
        "import math\n",
        "from scipy import stats\n",
        "from sklearn.cluster import KMeans\n",
        "from scipy.spatial.distance import cdist\n",
        "from sklearn import metrics"
      ],
      "execution_count": null,
      "outputs": []
    },
    {
      "cell_type": "markdown",
      "metadata": {
        "id": "bSp_1BsyHTeY"
      },
      "source": [
        "## **Olah Data**"
      ]
    },
    {
      "cell_type": "code",
      "metadata": {
        "id": "ncIvkyyuroKU"
      },
      "source": [
        "# melakukan read data yang disimpan pada google drive\n",
        "df_kendaraan_test = pd.read_csv(\"kendaraan_test.csv\")\n",
        "df_kendaraan_train = pd.read_csv(\"kendaraan_train.csv\")"
      ],
      "execution_count": null,
      "outputs": []
    },
    {
      "cell_type": "markdown",
      "metadata": {
        "id": "F308Df6e82gC"
      },
      "source": [
        "cek Dataset kendaraan_train"
      ]
    },
    {
      "cell_type": "code",
      "metadata": {
        "colab": {
          "base_uri": "https://localhost:8080/",
          "height": 419
        },
        "id": "2-z0JcrqkPh2",
        "outputId": "361c1ce4-c6ec-4c3b-e249-5bc58b53a90d"
      },
      "source": [
        "# import dataframe\n",
        "df_data = df_kendaraan_train\n",
        "df_data"
      ],
      "execution_count": null,
      "outputs": [
        {
          "output_type": "execute_result",
          "data": {
            "text/html": [
              "<div>\n",
              "<style scoped>\n",
              "    .dataframe tbody tr th:only-of-type {\n",
              "        vertical-align: middle;\n",
              "    }\n",
              "\n",
              "    .dataframe tbody tr th {\n",
              "        vertical-align: top;\n",
              "    }\n",
              "\n",
              "    .dataframe thead th {\n",
              "        text-align: right;\n",
              "    }\n",
              "</style>\n",
              "<table border=\"1\" class=\"dataframe\">\n",
              "  <thead>\n",
              "    <tr style=\"text-align: right;\">\n",
              "      <th></th>\n",
              "      <th>id</th>\n",
              "      <th>Jenis_Kelamin</th>\n",
              "      <th>Umur</th>\n",
              "      <th>SIM</th>\n",
              "      <th>Kode_Daerah</th>\n",
              "      <th>Sudah_Asuransi</th>\n",
              "      <th>Umur_Kendaraan</th>\n",
              "      <th>Kendaraan_Rusak</th>\n",
              "      <th>Premi</th>\n",
              "      <th>Kanal_Penjualan</th>\n",
              "      <th>Lama_Berlangganan</th>\n",
              "      <th>Tertarik</th>\n",
              "    </tr>\n",
              "  </thead>\n",
              "  <tbody>\n",
              "    <tr>\n",
              "      <th>0</th>\n",
              "      <td>1</td>\n",
              "      <td>Wanita</td>\n",
              "      <td>30.0</td>\n",
              "      <td>1.0</td>\n",
              "      <td>33.0</td>\n",
              "      <td>1.0</td>\n",
              "      <td>&lt; 1 Tahun</td>\n",
              "      <td>Tidak</td>\n",
              "      <td>28029.0</td>\n",
              "      <td>152.0</td>\n",
              "      <td>97.0</td>\n",
              "      <td>0</td>\n",
              "    </tr>\n",
              "    <tr>\n",
              "      <th>1</th>\n",
              "      <td>2</td>\n",
              "      <td>Pria</td>\n",
              "      <td>48.0</td>\n",
              "      <td>1.0</td>\n",
              "      <td>39.0</td>\n",
              "      <td>0.0</td>\n",
              "      <td>&gt; 2 Tahun</td>\n",
              "      <td>Pernah</td>\n",
              "      <td>25800.0</td>\n",
              "      <td>29.0</td>\n",
              "      <td>158.0</td>\n",
              "      <td>0</td>\n",
              "    </tr>\n",
              "    <tr>\n",
              "      <th>2</th>\n",
              "      <td>3</td>\n",
              "      <td>NaN</td>\n",
              "      <td>21.0</td>\n",
              "      <td>1.0</td>\n",
              "      <td>46.0</td>\n",
              "      <td>1.0</td>\n",
              "      <td>&lt; 1 Tahun</td>\n",
              "      <td>Tidak</td>\n",
              "      <td>32733.0</td>\n",
              "      <td>160.0</td>\n",
              "      <td>119.0</td>\n",
              "      <td>0</td>\n",
              "    </tr>\n",
              "    <tr>\n",
              "      <th>3</th>\n",
              "      <td>4</td>\n",
              "      <td>Wanita</td>\n",
              "      <td>58.0</td>\n",
              "      <td>1.0</td>\n",
              "      <td>48.0</td>\n",
              "      <td>0.0</td>\n",
              "      <td>1-2 Tahun</td>\n",
              "      <td>Tidak</td>\n",
              "      <td>2630.0</td>\n",
              "      <td>124.0</td>\n",
              "      <td>63.0</td>\n",
              "      <td>0</td>\n",
              "    </tr>\n",
              "    <tr>\n",
              "      <th>4</th>\n",
              "      <td>5</td>\n",
              "      <td>Pria</td>\n",
              "      <td>50.0</td>\n",
              "      <td>1.0</td>\n",
              "      <td>35.0</td>\n",
              "      <td>0.0</td>\n",
              "      <td>&gt; 2 Tahun</td>\n",
              "      <td>NaN</td>\n",
              "      <td>34857.0</td>\n",
              "      <td>88.0</td>\n",
              "      <td>194.0</td>\n",
              "      <td>0</td>\n",
              "    </tr>\n",
              "    <tr>\n",
              "      <th>...</th>\n",
              "      <td>...</td>\n",
              "      <td>...</td>\n",
              "      <td>...</td>\n",
              "      <td>...</td>\n",
              "      <td>...</td>\n",
              "      <td>...</td>\n",
              "      <td>...</td>\n",
              "      <td>...</td>\n",
              "      <td>...</td>\n",
              "      <td>...</td>\n",
              "      <td>...</td>\n",
              "      <td>...</td>\n",
              "    </tr>\n",
              "    <tr>\n",
              "      <th>285826</th>\n",
              "      <td>285827</td>\n",
              "      <td>Wanita</td>\n",
              "      <td>23.0</td>\n",
              "      <td>1.0</td>\n",
              "      <td>4.0</td>\n",
              "      <td>1.0</td>\n",
              "      <td>&lt; 1 Tahun</td>\n",
              "      <td>Tidak</td>\n",
              "      <td>25988.0</td>\n",
              "      <td>152.0</td>\n",
              "      <td>217.0</td>\n",
              "      <td>0</td>\n",
              "    </tr>\n",
              "    <tr>\n",
              "      <th>285827</th>\n",
              "      <td>285828</td>\n",
              "      <td>Wanita</td>\n",
              "      <td>21.0</td>\n",
              "      <td>1.0</td>\n",
              "      <td>46.0</td>\n",
              "      <td>1.0</td>\n",
              "      <td>&lt; 1 Tahun</td>\n",
              "      <td>Tidak</td>\n",
              "      <td>44686.0</td>\n",
              "      <td>152.0</td>\n",
              "      <td>50.0</td>\n",
              "      <td>0</td>\n",
              "    </tr>\n",
              "    <tr>\n",
              "      <th>285828</th>\n",
              "      <td>285829</td>\n",
              "      <td>Wanita</td>\n",
              "      <td>23.0</td>\n",
              "      <td>1.0</td>\n",
              "      <td>50.0</td>\n",
              "      <td>1.0</td>\n",
              "      <td>&lt; 1 Tahun</td>\n",
              "      <td>Tidak</td>\n",
              "      <td>49751.0</td>\n",
              "      <td>152.0</td>\n",
              "      <td>226.0</td>\n",
              "      <td>0</td>\n",
              "    </tr>\n",
              "    <tr>\n",
              "      <th>285829</th>\n",
              "      <td>285830</td>\n",
              "      <td>Pria</td>\n",
              "      <td>68.0</td>\n",
              "      <td>1.0</td>\n",
              "      <td>7.0</td>\n",
              "      <td>1.0</td>\n",
              "      <td>1-2 Tahun</td>\n",
              "      <td>Tidak</td>\n",
              "      <td>30503.0</td>\n",
              "      <td>124.0</td>\n",
              "      <td>270.0</td>\n",
              "      <td>0</td>\n",
              "    </tr>\n",
              "    <tr>\n",
              "      <th>285830</th>\n",
              "      <td>285831</td>\n",
              "      <td>Pria</td>\n",
              "      <td>45.0</td>\n",
              "      <td>1.0</td>\n",
              "      <td>28.0</td>\n",
              "      <td>0.0</td>\n",
              "      <td>1-2 Tahun</td>\n",
              "      <td>Pernah</td>\n",
              "      <td>36480.0</td>\n",
              "      <td>26.0</td>\n",
              "      <td>44.0</td>\n",
              "      <td>0</td>\n",
              "    </tr>\n",
              "  </tbody>\n",
              "</table>\n",
              "<p>285831 rows × 12 columns</p>\n",
              "</div>"
            ],
            "text/plain": [
              "            id Jenis_Kelamin  ...  Lama_Berlangganan  Tertarik\n",
              "0            1        Wanita  ...               97.0         0\n",
              "1            2          Pria  ...              158.0         0\n",
              "2            3           NaN  ...              119.0         0\n",
              "3            4        Wanita  ...               63.0         0\n",
              "4            5          Pria  ...              194.0         0\n",
              "...        ...           ...  ...                ...       ...\n",
              "285826  285827        Wanita  ...              217.0         0\n",
              "285827  285828        Wanita  ...               50.0         0\n",
              "285828  285829        Wanita  ...              226.0         0\n",
              "285829  285830          Pria  ...              270.0         0\n",
              "285830  285831          Pria  ...               44.0         0\n",
              "\n",
              "[285831 rows x 12 columns]"
            ]
          },
          "metadata": {},
          "execution_count": 570
        }
      ]
    },
    {
      "cell_type": "markdown",
      "metadata": {
        "id": "CQmww9lxHB3R"
      },
      "source": [
        "## **Eksplorasi Data**\n"
      ]
    },
    {
      "cell_type": "markdown",
      "metadata": {
        "id": "Vq6tGwceHq4a"
      },
      "source": [
        "Menghitung jumlah data"
      ]
    },
    {
      "cell_type": "code",
      "metadata": {
        "colab": {
          "base_uri": "https://localhost:8080/"
        },
        "id": "PbHQ3dcD4P2l",
        "outputId": "dd6c2cff-ae14-40b5-fcdb-dfc7f74523c8"
      },
      "source": [
        "# menghitung banyak jumlah data\n",
        "df_data.shape"
      ],
      "execution_count": null,
      "outputs": [
        {
          "output_type": "execute_result",
          "data": {
            "text/plain": [
              "(285831, 12)"
            ]
          },
          "metadata": {},
          "execution_count": 571
        }
      ]
    },
    {
      "cell_type": "markdown",
      "metadata": {
        "id": "DWx1gtPYH3gw"
      },
      "source": [
        "Melihat tipe dataset"
      ]
    },
    {
      "cell_type": "code",
      "metadata": {
        "colab": {
          "base_uri": "https://localhost:8080/"
        },
        "id": "qmDD45S_4mOJ",
        "outputId": "1c825777-e515-4f86-b61d-c055c694c8e9"
      },
      "source": [
        "# melihat tipe data\n",
        "df_data.dtypes"
      ],
      "execution_count": null,
      "outputs": [
        {
          "output_type": "execute_result",
          "data": {
            "text/plain": [
              "id                     int64\n",
              "Jenis_Kelamin         object\n",
              "Umur                 float64\n",
              "SIM                  float64\n",
              "Kode_Daerah          float64\n",
              "Sudah_Asuransi       float64\n",
              "Umur_Kendaraan        object\n",
              "Kendaraan_Rusak       object\n",
              "Premi                float64\n",
              "Kanal_Penjualan      float64\n",
              "Lama_Berlangganan    float64\n",
              "Tertarik               int64\n",
              "dtype: object"
            ]
          },
          "metadata": {},
          "execution_count": 572
        }
      ]
    },
    {
      "cell_type": "markdown",
      "metadata": {
        "id": "yWWffmwu9b_m"
      },
      "source": [
        "Melihat statistik data"
      ]
    },
    {
      "cell_type": "code",
      "metadata": {
        "colab": {
          "base_uri": "https://localhost:8080/"
        },
        "id": "EboBUyzn5Idu",
        "outputId": "b0171701-4530-42f0-f06e-89641bcad97f"
      },
      "source": [
        "df_data.describe"
      ],
      "execution_count": null,
      "outputs": [
        {
          "output_type": "execute_result",
          "data": {
            "text/plain": [
              "<bound method NDFrame.describe of             id Jenis_Kelamin  ...  Lama_Berlangganan  Tertarik\n",
              "0            1        Wanita  ...               97.0         0\n",
              "1            2          Pria  ...              158.0         0\n",
              "2            3           NaN  ...              119.0         0\n",
              "3            4        Wanita  ...               63.0         0\n",
              "4            5          Pria  ...              194.0         0\n",
              "...        ...           ...  ...                ...       ...\n",
              "285826  285827        Wanita  ...              217.0         0\n",
              "285827  285828        Wanita  ...               50.0         0\n",
              "285828  285829        Wanita  ...              226.0         0\n",
              "285829  285830          Pria  ...              270.0         0\n",
              "285830  285831          Pria  ...               44.0         0\n",
              "\n",
              "[285831 rows x 12 columns]>"
            ]
          },
          "metadata": {},
          "execution_count": 573
        }
      ]
    },
    {
      "cell_type": "code",
      "metadata": {
        "colab": {
          "base_uri": "https://localhost:8080/",
          "height": 500
        },
        "id": "Q8o1zEVhhchF",
        "outputId": "db0dfd2b-9d3d-498f-d2cb-c9417d751a65"
      },
      "source": [
        "# menampilkan Heatmap\n",
        "corrmat = df_kendaraan_train.corr()\n",
        "f, ax = plt.subplots(figsize=(14, 6))\n",
        "plt.title('korelasi antar atribut')\n",
        "sns.heatmap(corrmat, annot=True, square=True)"
      ],
      "execution_count": null,
      "outputs": [
        {
          "output_type": "execute_result",
          "data": {
            "text/plain": [
              "<matplotlib.axes._subplots.AxesSubplot at 0x7f59fbb4c550>"
            ]
          },
          "metadata": {},
          "execution_count": 628
        },
        {
          "output_type": "display_data",
          "data": {
            "image/png": "[encoded data removed]",
            "text/plain": [
              "<Figure size 1008x432 with 2 Axes>"
            ]
          },
          "metadata": {
            "needs_background": "light"
          }
        }
      ]
    },
    {
      "cell_type": "markdown",
      "metadata": {
        "id": "zl0mxSDI9KDW"
      },
      "source": [
        "Pengecekan nilai null dataset"
      ]
    },
    {
      "cell_type": "code",
      "metadata": {
        "colab": {
          "base_uri": "https://localhost:8080/"
        },
        "id": "4RuCLDz04yH1",
        "outputId": "080c5bc2-ae2e-4b48-d256-c67b942187f9"
      },
      "source": [
        "# pengecekan nilai null pada dataset\n",
        "df_data.isnull()\n",
        "df_data.isnull().sum()"
      ],
      "execution_count": null,
      "outputs": [
        {
          "output_type": "execute_result",
          "data": {
            "text/plain": [
              "id                       0\n",
              "Jenis_Kelamin        14440\n",
              "Umur                 14214\n",
              "SIM                  14404\n",
              "Kode_Daerah          14306\n",
              "Sudah_Asuransi       14229\n",
              "Umur_Kendaraan       14275\n",
              "Kendaraan_Rusak      14188\n",
              "Premi                14569\n",
              "Kanal_Penjualan      14299\n",
              "Lama_Berlangganan    13992\n",
              "Tertarik                 0\n",
              "dtype: int64"
            ]
          },
          "metadata": {},
          "execution_count": 575
        }
      ]
    },
    {
      "cell_type": "markdown",
      "metadata": {
        "id": "u-17nj2A9NXo"
      },
      "source": [
        "Menghapus data null "
      ]
    },
    {
      "cell_type": "code",
      "metadata": {
        "colab": {
          "base_uri": "https://localhost:8080/",
          "height": 419
        },
        "id": "-MmN_f_Oif61",
        "outputId": "461c907a-8537-4dd0-a461-45fad48bcb70"
      },
      "source": [
        "# drop unuse values / null values\n",
        "df_data = df_kendaraan_train\n",
        "df_data.drop('Jenis_Kelamin',axis='columns', inplace=True)\n",
        "df_data.drop('id',axis='columns', inplace=True)\n",
        "df_data.drop('SIM',axis='columns', inplace=True)\n",
        "df_data.drop('Sudah_Asuransi',axis='columns', inplace=True)\n",
        "df_data.drop('Umur_Kendaraan',axis='columns', inplace=True)\n",
        "df_data.drop('Kendaraan_Rusak',axis='columns', inplace=True)\n",
        "df_data.drop('Tertarik',axis='columns', inplace=True)\n",
        "df_data"
      ],
      "execution_count": null,
      "outputs": [
        {
          "output_type": "execute_result",
          "data": {
            "text/html": [
              "<div>\n",
              "<style scoped>\n",
              "    .dataframe tbody tr th:only-of-type {\n",
              "        vertical-align: middle;\n",
              "    }\n",
              "\n",
              "    .dataframe tbody tr th {\n",
              "        vertical-align: top;\n",
              "    }\n",
              "\n",
              "    .dataframe thead th {\n",
              "        text-align: right;\n",
              "    }\n",
              "</style>\n",
              "<table border=\"1\" class=\"dataframe\">\n",
              "  <thead>\n",
              "    <tr style=\"text-align: right;\">\n",
              "      <th></th>\n",
              "      <th>Umur</th>\n",
              "      <th>Kode_Daerah</th>\n",
              "      <th>Premi</th>\n",
              "      <th>Kanal_Penjualan</th>\n",
              "      <th>Lama_Berlangganan</th>\n",
              "    </tr>\n",
              "  </thead>\n",
              "  <tbody>\n",
              "    <tr>\n",
              "      <th>0</th>\n",
              "      <td>30.0</td>\n",
              "      <td>33.0</td>\n",
              "      <td>28029.0</td>\n",
              "      <td>152.0</td>\n",
              "      <td>97.0</td>\n",
              "    </tr>\n",
              "    <tr>\n",
              "      <th>1</th>\n",
              "      <td>48.0</td>\n",
              "      <td>39.0</td>\n",
              "      <td>25800.0</td>\n",
              "      <td>29.0</td>\n",
              "      <td>158.0</td>\n",
              "    </tr>\n",
              "    <tr>\n",
              "      <th>2</th>\n",
              "      <td>21.0</td>\n",
              "      <td>46.0</td>\n",
              "      <td>32733.0</td>\n",
              "      <td>160.0</td>\n",
              "      <td>119.0</td>\n",
              "    </tr>\n",
              "    <tr>\n",
              "      <th>3</th>\n",
              "      <td>58.0</td>\n",
              "      <td>48.0</td>\n",
              "      <td>2630.0</td>\n",
              "      <td>124.0</td>\n",
              "      <td>63.0</td>\n",
              "    </tr>\n",
              "    <tr>\n",
              "      <th>4</th>\n",
              "      <td>50.0</td>\n",
              "      <td>35.0</td>\n",
              "      <td>34857.0</td>\n",
              "      <td>88.0</td>\n",
              "      <td>194.0</td>\n",
              "    </tr>\n",
              "    <tr>\n",
              "      <th>...</th>\n",
              "      <td>...</td>\n",
              "      <td>...</td>\n",
              "      <td>...</td>\n",
              "      <td>...</td>\n",
              "      <td>...</td>\n",
              "    </tr>\n",
              "    <tr>\n",
              "      <th>285826</th>\n",
              "      <td>23.0</td>\n",
              "      <td>4.0</td>\n",
              "      <td>25988.0</td>\n",
              "      <td>152.0</td>\n",
              "      <td>217.0</td>\n",
              "    </tr>\n",
              "    <tr>\n",
              "      <th>285827</th>\n",
              "      <td>21.0</td>\n",
              "      <td>46.0</td>\n",
              "      <td>44686.0</td>\n",
              "      <td>152.0</td>\n",
              "      <td>50.0</td>\n",
              "    </tr>\n",
              "    <tr>\n",
              "      <th>285828</th>\n",
              "      <td>23.0</td>\n",
              "      <td>50.0</td>\n",
              "      <td>49751.0</td>\n",
              "      <td>152.0</td>\n",
              "      <td>226.0</td>\n",
              "    </tr>\n",
              "    <tr>\n",
              "      <th>285829</th>\n",
              "      <td>68.0</td>\n",
              "      <td>7.0</td>\n",
              "      <td>30503.0</td>\n",
              "      <td>124.0</td>\n",
              "      <td>270.0</td>\n",
              "    </tr>\n",
              "    <tr>\n",
              "      <th>285830</th>\n",
              "      <td>45.0</td>\n",
              "      <td>28.0</td>\n",
              "      <td>36480.0</td>\n",
              "      <td>26.0</td>\n",
              "      <td>44.0</td>\n",
              "    </tr>\n",
              "  </tbody>\n",
              "</table>\n",
              "<p>285831 rows × 5 columns</p>\n",
              "</div>"
            ],
            "text/plain": [
              "        Umur  Kode_Daerah    Premi  Kanal_Penjualan  Lama_Berlangganan\n",
              "0       30.0         33.0  28029.0            152.0               97.0\n",
              "1       48.0         39.0  25800.0             29.0              158.0\n",
              "2       21.0         46.0  32733.0            160.0              119.0\n",
              "3       58.0         48.0   2630.0            124.0               63.0\n",
              "4       50.0         35.0  34857.0             88.0              194.0\n",
              "...      ...          ...      ...              ...                ...\n",
              "285826  23.0          4.0  25988.0            152.0              217.0\n",
              "285827  21.0         46.0  44686.0            152.0               50.0\n",
              "285828  23.0         50.0  49751.0            152.0              226.0\n",
              "285829  68.0          7.0  30503.0            124.0              270.0\n",
              "285830  45.0         28.0  36480.0             26.0               44.0\n",
              "\n",
              "[285831 rows x 5 columns]"
            ]
          },
          "metadata": {},
          "execution_count": 576
        }
      ]
    },
    {
      "cell_type": "markdown",
      "metadata": {
        "id": "lQSKWgyP9TQu"
      },
      "source": [
        "cek kembali hasil dataset yang dihapus"
      ]
    },
    {
      "cell_type": "code",
      "metadata": {
        "colab": {
          "base_uri": "https://localhost:8080/"
        },
        "id": "YmOKKZFg8dv7",
        "outputId": "ebfef6d8-746a-4cd0-eb90-2ceb12af2c81"
      },
      "source": [
        "df_data.isnull().sum()"
      ],
      "execution_count": null,
      "outputs": [
        {
          "output_type": "execute_result",
          "data": {
            "text/plain": [
              "Umur                 14214\n",
              "Kode_Daerah          14306\n",
              "Premi                14569\n",
              "Kanal_Penjualan      14299\n",
              "Lama_Berlangganan    13992\n",
              "dtype: int64"
            ]
          },
          "metadata": {},
          "execution_count": 577
        }
      ]
    },
    {
      "cell_type": "code",
      "metadata": {
        "colab": {
          "base_uri": "https://localhost:8080/",
          "height": 419
        },
        "id": "sGMgd81pAAeI",
        "outputId": "8c208220-baf3-4f6d-9d3c-57ac1fc5571c"
      },
      "source": [
        "# mengambil kolom dengan korelasi yang terbesar\n",
        "df_data = df_data[['Umur','Premi','Kanal_Penjualan']]\n",
        "df_data"
      ],
      "execution_count": null,
      "outputs": [
        {
          "output_type": "execute_result",
          "data": {
            "text/html": [
              "<div>\n",
              "<style scoped>\n",
              "    .dataframe tbody tr th:only-of-type {\n",
              "        vertical-align: middle;\n",
              "    }\n",
              "\n",
              "    .dataframe tbody tr th {\n",
              "        vertical-align: top;\n",
              "    }\n",
              "\n",
              "    .dataframe thead th {\n",
              "        text-align: right;\n",
              "    }\n",
              "</style>\n",
              "<table border=\"1\" class=\"dataframe\">\n",
              "  <thead>\n",
              "    <tr style=\"text-align: right;\">\n",
              "      <th></th>\n",
              "      <th>Umur</th>\n",
              "      <th>Premi</th>\n",
              "      <th>Kanal_Penjualan</th>\n",
              "    </tr>\n",
              "  </thead>\n",
              "  <tbody>\n",
              "    <tr>\n",
              "      <th>0</th>\n",
              "      <td>30.0</td>\n",
              "      <td>28029.0</td>\n",
              "      <td>152.0</td>\n",
              "    </tr>\n",
              "    <tr>\n",
              "      <th>1</th>\n",
              "      <td>48.0</td>\n",
              "      <td>25800.0</td>\n",
              "      <td>29.0</td>\n",
              "    </tr>\n",
              "    <tr>\n",
              "      <th>2</th>\n",
              "      <td>21.0</td>\n",
              "      <td>32733.0</td>\n",
              "      <td>160.0</td>\n",
              "    </tr>\n",
              "    <tr>\n",
              "      <th>3</th>\n",
              "      <td>58.0</td>\n",
              "      <td>2630.0</td>\n",
              "      <td>124.0</td>\n",
              "    </tr>\n",
              "    <tr>\n",
              "      <th>4</th>\n",
              "      <td>50.0</td>\n",
              "      <td>34857.0</td>\n",
              "      <td>88.0</td>\n",
              "    </tr>\n",
              "    <tr>\n",
              "      <th>...</th>\n",
              "      <td>...</td>\n",
              "      <td>...</td>\n",
              "      <td>...</td>\n",
              "    </tr>\n",
              "    <tr>\n",
              "      <th>285826</th>\n",
              "      <td>23.0</td>\n",
              "      <td>25988.0</td>\n",
              "      <td>152.0</td>\n",
              "    </tr>\n",
              "    <tr>\n",
              "      <th>285827</th>\n",
              "      <td>21.0</td>\n",
              "      <td>44686.0</td>\n",
              "      <td>152.0</td>\n",
              "    </tr>\n",
              "    <tr>\n",
              "      <th>285828</th>\n",
              "      <td>23.0</td>\n",
              "      <td>49751.0</td>\n",
              "      <td>152.0</td>\n",
              "    </tr>\n",
              "    <tr>\n",
              "      <th>285829</th>\n",
              "      <td>68.0</td>\n",
              "      <td>30503.0</td>\n",
              "      <td>124.0</td>\n",
              "    </tr>\n",
              "    <tr>\n",
              "      <th>285830</th>\n",
              "      <td>45.0</td>\n",
              "      <td>36480.0</td>\n",
              "      <td>26.0</td>\n",
              "    </tr>\n",
              "  </tbody>\n",
              "</table>\n",
              "<p>285831 rows × 3 columns</p>\n",
              "</div>"
            ],
            "text/plain": [
              "        Umur    Premi  Kanal_Penjualan\n",
              "0       30.0  28029.0            152.0\n",
              "1       48.0  25800.0             29.0\n",
              "2       21.0  32733.0            160.0\n",
              "3       58.0   2630.0            124.0\n",
              "4       50.0  34857.0             88.0\n",
              "...      ...      ...              ...\n",
              "285826  23.0  25988.0            152.0\n",
              "285827  21.0  44686.0            152.0\n",
              "285828  23.0  49751.0            152.0\n",
              "285829  68.0  30503.0            124.0\n",
              "285830  45.0  36480.0             26.0\n",
              "\n",
              "[285831 rows x 3 columns]"
            ]
          },
          "metadata": {},
          "execution_count": 578
        }
      ]
    },
    {
      "cell_type": "markdown",
      "metadata": {
        "id": "lfoId7usIhY1"
      },
      "source": [
        "Penyebaran dataset"
      ]
    },
    {
      "cell_type": "code",
      "metadata": {
        "colab": {
          "base_uri": "https://localhost:8080/",
          "height": 499
        },
        "id": "HX_2J4B1IgHP",
        "outputId": "afd53a6b-8c36-4291-a377-c6fa50630e82"
      },
      "source": [
        "df_data.hist(figsize=(12, 8), color=\"pink\", edgecolor = \"black\")\n",
        "plt.show()"
      ],
      "execution_count": null,
      "outputs": [
        {
          "output_type": "display_data",
          "data": {
            "image/png": "[encoded data removed]",
            "text/plain": [
              "<Figure size 864x576 with 4 Axes>"
            ]
          },
          "metadata": {
            "needs_background": "light"
          }
        }
      ]
    },
    {
      "cell_type": "markdown",
      "metadata": {
        "id": "WYzpGKeCGdX4"
      },
      "source": [
        "Pengecekan outlier"
      ]
    },
    {
      "cell_type": "code",
      "metadata": {
        "id": "l-j-ajpclBkX",
        "colab": {
          "base_uri": "https://localhost:8080/",
          "height": 333
        },
        "outputId": "aae34b36-ba2d-4974-8fed-8d8f3a07cbd7"
      },
      "source": [
        "# mengecek outlier\n",
        "sns.boxplot(df_data['Premi'])\n",
        "plt.show()"
      ],
      "execution_count": null,
      "outputs": [
        {
          "output_type": "stream",
          "name": "stderr",
          "text": [
            "/usr/local/lib/python3.7/dist-packages/seaborn/_decorators.py:43: FutureWarning: Pass the following variable as a keyword arg: x. From version 0.12, the only valid positional argument will be `data`, and passing other arguments without an explicit keyword will result in an error or misinterpretation.\n",
            "  FutureWarning\n"
          ]
        },
        {
          "output_type": "display_data",
          "data": {
            "image/png": "[encoded data removed]",
            "text/plain": [
              "<Figure size 432x288 with 1 Axes>"
            ]
          },
          "metadata": {
            "needs_background": "light"
          }
        }
      ]
    },
    {
      "cell_type": "code",
      "metadata": {
        "id": "--V3JhDkkPiF"
      },
      "source": [
        "# Function for handling outlier data\n",
        "def handling_outlier(df):\n",
        "    q1 = df.quantile(0.25)\n",
        "    q3 = df.quantile(0.75)\n",
        "    IQR = q3-q1\n",
        "    LB=q1 - (IQR * 1.5)\n",
        "    UB=q3 + (IQR *1.5)\n",
        "    dff = df[((df>LB) & (df<UB))]\n",
        "    return dff"
      ],
      "execution_count": null,
      "outputs": []
    },
    {
      "cell_type": "code",
      "metadata": {
        "colab": {
          "base_uri": "https://localhost:8080/",
          "height": 521
        },
        "id": "9wtdBVZIkPiI",
        "outputId": "23f306cf-a3cd-45ca-c675-c48b3ec65e14"
      },
      "source": [
        "# menghapus outlier dari kolom premi\n",
        "df_new = df_data\n",
        "df_new['Premi'] = handling_outlier(df_new['Premi'])\n",
        "df_new"
      ],
      "execution_count": null,
      "outputs": [
        {
          "output_type": "stream",
          "name": "stderr",
          "text": [
            "/usr/local/lib/python3.7/dist-packages/ipykernel_launcher.py:3: SettingWithCopyWarning: \n",
            "A value is trying to be set on a copy of a slice from a DataFrame.\n",
            "Try using .loc[row_indexer,col_indexer] = value instead\n",
            "\n",
            "See the caveats in the documentation: https://pandas.pydata.org/pandas-docs/stable/user_guide/indexing.html#returning-a-view-versus-a-copy\n",
            "  This is separate from the ipykernel package so we can avoid doing imports until\n"
          ]
        },
        {
          "output_type": "execute_result",
          "data": {
            "text/html": [
              "<div>\n",
              "<style scoped>\n",
              "    .dataframe tbody tr th:only-of-type {\n",
              "        vertical-align: middle;\n",
              "    }\n",
              "\n",
              "    .dataframe tbody tr th {\n",
              "        vertical-align: top;\n",
              "    }\n",
              "\n",
              "    .dataframe thead th {\n",
              "        text-align: right;\n",
              "    }\n",
              "</style>\n",
              "<table border=\"1\" class=\"dataframe\">\n",
              "  <thead>\n",
              "    <tr style=\"text-align: right;\">\n",
              "      <th></th>\n",
              "      <th>Umur</th>\n",
              "      <th>Premi</th>\n",
              "      <th>Kanal_Penjualan</th>\n",
              "    </tr>\n",
              "  </thead>\n",
              "  <tbody>\n",
              "    <tr>\n",
              "      <th>0</th>\n",
              "      <td>30.0</td>\n",
              "      <td>28029.0</td>\n",
              "      <td>152.0</td>\n",
              "    </tr>\n",
              "    <tr>\n",
              "      <th>1</th>\n",
              "      <td>48.0</td>\n",
              "      <td>25800.0</td>\n",
              "      <td>29.0</td>\n",
              "    </tr>\n",
              "    <tr>\n",
              "      <th>2</th>\n",
              "      <td>21.0</td>\n",
              "      <td>32733.0</td>\n",
              "      <td>160.0</td>\n",
              "    </tr>\n",
              "    <tr>\n",
              "      <th>3</th>\n",
              "      <td>58.0</td>\n",
              "      <td>2630.0</td>\n",
              "      <td>124.0</td>\n",
              "    </tr>\n",
              "    <tr>\n",
              "      <th>4</th>\n",
              "      <td>50.0</td>\n",
              "      <td>34857.0</td>\n",
              "      <td>88.0</td>\n",
              "    </tr>\n",
              "    <tr>\n",
              "      <th>...</th>\n",
              "      <td>...</td>\n",
              "      <td>...</td>\n",
              "      <td>...</td>\n",
              "    </tr>\n",
              "    <tr>\n",
              "      <th>285826</th>\n",
              "      <td>23.0</td>\n",
              "      <td>25988.0</td>\n",
              "      <td>152.0</td>\n",
              "    </tr>\n",
              "    <tr>\n",
              "      <th>285827</th>\n",
              "      <td>21.0</td>\n",
              "      <td>44686.0</td>\n",
              "      <td>152.0</td>\n",
              "    </tr>\n",
              "    <tr>\n",
              "      <th>285828</th>\n",
              "      <td>23.0</td>\n",
              "      <td>49751.0</td>\n",
              "      <td>152.0</td>\n",
              "    </tr>\n",
              "    <tr>\n",
              "      <th>285829</th>\n",
              "      <td>68.0</td>\n",
              "      <td>30503.0</td>\n",
              "      <td>124.0</td>\n",
              "    </tr>\n",
              "    <tr>\n",
              "      <th>285830</th>\n",
              "      <td>45.0</td>\n",
              "      <td>36480.0</td>\n",
              "      <td>26.0</td>\n",
              "    </tr>\n",
              "  </tbody>\n",
              "</table>\n",
              "<p>285831 rows × 3 columns</p>\n",
              "</div>"
            ],
            "text/plain": [
              "        Umur    Premi  Kanal_Penjualan\n",
              "0       30.0  28029.0            152.0\n",
              "1       48.0  25800.0             29.0\n",
              "2       21.0  32733.0            160.0\n",
              "3       58.0   2630.0            124.0\n",
              "4       50.0  34857.0             88.0\n",
              "...      ...      ...              ...\n",
              "285826  23.0  25988.0            152.0\n",
              "285827  21.0  44686.0            152.0\n",
              "285828  23.0  49751.0            152.0\n",
              "285829  68.0  30503.0            124.0\n",
              "285830  45.0  36480.0             26.0\n",
              "\n",
              "[285831 rows x 3 columns]"
            ]
          },
          "metadata": {},
          "execution_count": 582
        }
      ]
    },
    {
      "cell_type": "code",
      "metadata": {
        "colab": {
          "base_uri": "https://localhost:8080/",
          "height": 282
        },
        "id": "aTi15emykPiK",
        "outputId": "7e19e8c3-0278-4199-a289-1577026e680e"
      },
      "source": [
        "# mengecek kembali outlier dari kolom premi\n",
        "sns.boxplot(data= df_data, orient=\"h\")\n"
      ],
      "execution_count": null,
      "outputs": [
        {
          "output_type": "execute_result",
          "data": {
            "text/plain": [
              "<matplotlib.axes._subplots.AxesSubplot at 0x7f59fbc96490>"
            ]
          },
          "metadata": {},
          "execution_count": 583
        },
        {
          "output_type": "display_data",
          "data": {
            "image/png": "[encoded data removed]",
            "text/plain": [
              "<Figure size 432x288 with 1 Axes>"
            ]
          },
          "metadata": {
            "needs_background": "light"
          }
        }
      ]
    },
    {
      "cell_type": "code",
      "metadata": {
        "colab": {
          "base_uri": "https://localhost:8080/"
        },
        "id": "1Ln0SM7ygsJr",
        "outputId": "3d1a2a1a-7ebe-4de3-cbcc-124b412b023c"
      },
      "source": [
        "# penghapusan null value\n",
        "df_data = df_data.dropna(how='any')\n",
        "print(df_data.shape)\n",
        "print(df_data.isnull().sum())"
      ],
      "execution_count": null,
      "outputs": [
        {
          "output_type": "stream",
          "name": "stdout",
          "text": [
            "(238175, 3)\n",
            "Umur               0\n",
            "Premi              0\n",
            "Kanal_Penjualan    0\n",
            "dtype: int64\n"
          ]
        }
      ]
    },
    {
      "cell_type": "code",
      "metadata": {
        "colab": {
          "base_uri": "https://localhost:8080/",
          "height": 419
        },
        "id": "o69UL5C3kPiR",
        "outputId": "2fbd18cd-90eb-4706-d790-bc1ae4b71d59"
      },
      "source": [
        "# Min Max Scaller Normalization\n",
        "Scaller = MinMaxScaler()\n",
        "Scaller.fit(df_data)\n",
        "df_new = Scaller.transform(df_data)\n",
        "df_Scale = pd.DataFrame(df_data, columns=['Umur', 'Premi', 'Kanal_Penjualan'])\n",
        "df_Scale"
      ],
      "execution_count": null,
      "outputs": [
        {
          "output_type": "execute_result",
          "data": {
            "text/html": [
              "<div>\n",
              "<style scoped>\n",
              "    .dataframe tbody tr th:only-of-type {\n",
              "        vertical-align: middle;\n",
              "    }\n",
              "\n",
              "    .dataframe tbody tr th {\n",
              "        vertical-align: top;\n",
              "    }\n",
              "\n",
              "    .dataframe thead th {\n",
              "        text-align: right;\n",
              "    }\n",
              "</style>\n",
              "<table border=\"1\" class=\"dataframe\">\n",
              "  <thead>\n",
              "    <tr style=\"text-align: right;\">\n",
              "      <th></th>\n",
              "      <th>Umur</th>\n",
              "      <th>Premi</th>\n",
              "      <th>Kanal_Penjualan</th>\n",
              "    </tr>\n",
              "  </thead>\n",
              "  <tbody>\n",
              "    <tr>\n",
              "      <th>0</th>\n",
              "      <td>30.0</td>\n",
              "      <td>28029.0</td>\n",
              "      <td>152.0</td>\n",
              "    </tr>\n",
              "    <tr>\n",
              "      <th>1</th>\n",
              "      <td>48.0</td>\n",
              "      <td>25800.0</td>\n",
              "      <td>29.0</td>\n",
              "    </tr>\n",
              "    <tr>\n",
              "      <th>2</th>\n",
              "      <td>21.0</td>\n",
              "      <td>32733.0</td>\n",
              "      <td>160.0</td>\n",
              "    </tr>\n",
              "    <tr>\n",
              "      <th>3</th>\n",
              "      <td>58.0</td>\n",
              "      <td>2630.0</td>\n",
              "      <td>124.0</td>\n",
              "    </tr>\n",
              "    <tr>\n",
              "      <th>4</th>\n",
              "      <td>50.0</td>\n",
              "      <td>34857.0</td>\n",
              "      <td>88.0</td>\n",
              "    </tr>\n",
              "    <tr>\n",
              "      <th>...</th>\n",
              "      <td>...</td>\n",
              "      <td>...</td>\n",
              "      <td>...</td>\n",
              "    </tr>\n",
              "    <tr>\n",
              "      <th>285826</th>\n",
              "      <td>23.0</td>\n",
              "      <td>25988.0</td>\n",
              "      <td>152.0</td>\n",
              "    </tr>\n",
              "    <tr>\n",
              "      <th>285827</th>\n",
              "      <td>21.0</td>\n",
              "      <td>44686.0</td>\n",
              "      <td>152.0</td>\n",
              "    </tr>\n",
              "    <tr>\n",
              "      <th>285828</th>\n",
              "      <td>23.0</td>\n",
              "      <td>49751.0</td>\n",
              "      <td>152.0</td>\n",
              "    </tr>\n",
              "    <tr>\n",
              "      <th>285829</th>\n",
              "      <td>68.0</td>\n",
              "      <td>30503.0</td>\n",
              "      <td>124.0</td>\n",
              "    </tr>\n",
              "    <tr>\n",
              "      <th>285830</th>\n",
              "      <td>45.0</td>\n",
              "      <td>36480.0</td>\n",
              "      <td>26.0</td>\n",
              "    </tr>\n",
              "  </tbody>\n",
              "</table>\n",
              "<p>238175 rows × 3 columns</p>\n",
              "</div>"
            ],
            "text/plain": [
              "        Umur    Premi  Kanal_Penjualan\n",
              "0       30.0  28029.0            152.0\n",
              "1       48.0  25800.0             29.0\n",
              "2       21.0  32733.0            160.0\n",
              "3       58.0   2630.0            124.0\n",
              "4       50.0  34857.0             88.0\n",
              "...      ...      ...              ...\n",
              "285826  23.0  25988.0            152.0\n",
              "285827  21.0  44686.0            152.0\n",
              "285828  23.0  49751.0            152.0\n",
              "285829  68.0  30503.0            124.0\n",
              "285830  45.0  36480.0             26.0\n",
              "\n",
              "[238175 rows x 3 columns]"
            ]
          },
          "metadata": {},
          "execution_count": 585
        }
      ]
    },
    {
      "cell_type": "markdown",
      "metadata": {
        "id": "ZDALDo33NxFV"
      },
      "source": [
        "## **KMeans**"
      ]
    },
    {
      "cell_type": "code",
      "metadata": {
        "colab": {
          "base_uri": "https://localhost:8080/",
          "height": 419
        },
        "id": "mAZ8R6yXg9sg",
        "outputId": "4d8c9456-e2cf-41e1-bbe1-e1d9f8903ba8"
      },
      "source": [
        "# PCA untuk merubah data menjadi 2 dimensi\n",
        "from sklearn.decomposition import PCA\n",
        "pca = PCA(n_components=2) \n",
        "principal = pca.fit_transform(df_data)\n",
        "df_data_pca = pd.DataFrame(data=principal, columns=['pca1','pca2'])\n",
        "df_data_pca"
      ],
      "execution_count": null,
      "outputs": [
        {
          "output_type": "execute_result",
          "data": {
            "text/html": [
              "<div>\n",
              "<style scoped>\n",
              "    .dataframe tbody tr th:only-of-type {\n",
              "        vertical-align: middle;\n",
              "    }\n",
              "\n",
              "    .dataframe tbody tr th {\n",
              "        vertical-align: top;\n",
              "    }\n",
              "\n",
              "    .dataframe thead th {\n",
              "        text-align: right;\n",
              "    }\n",
              "</style>\n",
              "<table border=\"1\" class=\"dataframe\">\n",
              "  <thead>\n",
              "    <tr style=\"text-align: right;\">\n",
              "      <th></th>\n",
              "      <th>pca1</th>\n",
              "      <th>pca2</th>\n",
              "    </tr>\n",
              "  </thead>\n",
              "  <tbody>\n",
              "    <tr>\n",
              "      <th>0</th>\n",
              "      <td>-1218.675171</td>\n",
              "      <td>-39.898409</td>\n",
              "    </tr>\n",
              "    <tr>\n",
              "      <th>1</th>\n",
              "      <td>-3447.626471</td>\n",
              "      <td>85.233977</td>\n",
              "    </tr>\n",
              "    <tr>\n",
              "      <th>2</th>\n",
              "      <td>3485.320918</td>\n",
              "      <td>-51.162186</td>\n",
              "    </tr>\n",
              "    <tr>\n",
              "      <th>3</th>\n",
              "      <td>-26617.660979</td>\n",
              "      <td>2.408175</td>\n",
              "    </tr>\n",
              "    <tr>\n",
              "      <th>4</th>\n",
              "      <td>5609.350098</td>\n",
              "      <td>23.924364</td>\n",
              "    </tr>\n",
              "    <tr>\n",
              "      <th>...</th>\n",
              "      <td>...</td>\n",
              "      <td>...</td>\n",
              "    </tr>\n",
              "    <tr>\n",
              "      <th>238170</th>\n",
              "      <td>-3259.675369</td>\n",
              "      <td>-40.306297</td>\n",
              "    </tr>\n",
              "    <tr>\n",
              "      <th>238171</th>\n",
              "      <td>15438.323104</td>\n",
              "      <td>-47.944081</td>\n",
              "    </tr>\n",
              "    <tr>\n",
              "      <th>238172</th>\n",
              "      <td>20503.322820</td>\n",
              "      <td>-49.575838</td>\n",
              "    </tr>\n",
              "    <tr>\n",
              "      <th>238173</th>\n",
              "      <td>1255.337402</td>\n",
              "      <td>-6.744539</td>\n",
              "    </tr>\n",
              "    <tr>\n",
              "      <th>238174</th>\n",
              "      <td>7232.373725</td>\n",
              "      <td>83.507159</td>\n",
              "    </tr>\n",
              "  </tbody>\n",
              "</table>\n",
              "<p>238175 rows × 2 columns</p>\n",
              "</div>"
            ],
            "text/plain": [
              "                pca1       pca2\n",
              "0       -1218.675171 -39.898409\n",
              "1       -3447.626471  85.233977\n",
              "2        3485.320918 -51.162186\n",
              "3      -26617.660979   2.408175\n",
              "4        5609.350098  23.924364\n",
              "...              ...        ...\n",
              "238170  -3259.675369 -40.306297\n",
              "238171  15438.323104 -47.944081\n",
              "238172  20503.322820 -49.575838\n",
              "238173   1255.337402  -6.744539\n",
              "238174   7232.373725  83.507159\n",
              "\n",
              "[238175 rows x 2 columns]"
            ]
          },
          "metadata": {},
          "execution_count": 586
        }
      ]
    },
    {
      "cell_type": "code",
      "metadata": {
        "id": "ZfUmuvi_vToo"
      },
      "source": [
        "# data tanpa pca\n",
        "df_dtnonpca = df_data[['Premi', 'Kanal_Penjualan']]"
      ],
      "execution_count": null,
      "outputs": []
    },
    {
      "cell_type": "code",
      "metadata": {
        "id": "ihAZKW79iC4i"
      },
      "source": [
        "# Rumus euclidean\n",
        "\n",
        "def euclidean(data, centro):\n",
        "  x = 0\n",
        "  for i in range(len(centro)):\n",
        "    x = x + ((data[i] - centro[i]) * (data[i] - centro[i]))\n",
        "  return math.sqrt(x)"
      ],
      "execution_count": null,
      "outputs": []
    },
    {
      "cell_type": "code",
      "metadata": {
        "id": "8_x4dYDfmEAc"
      },
      "source": [
        "# fungsi mencari cluster\n",
        "\n",
        "def cluster(dt, cen, k) :\n",
        "  tempclust = [] # jarak antar cluster\n",
        "  cluster = []\n",
        "  for i in range(len(dt)):\n",
        "    tempclust = [euclidean(cen[p], dt[i]) for p in range(k)]\n",
        "\n",
        "    m = min(tempclust)\n",
        "    indexx = tempclust.index(m)\n",
        "    cluster.append([data[i][0], data[i][1], indexx])\n",
        "\n",
        "    tempclust = []\n",
        "  return cluster\n"
      ],
      "execution_count": null,
      "outputs": []
    },
    {
      "cell_type": "code",
      "metadata": {
        "id": "VNQzyHx_nljH"
      },
      "source": [
        "# fungsi mengembalikan nilai centroid\n",
        "\n",
        "def centroid(A, k):\n",
        "  cenBaru = []\n",
        "  cenA = []\n",
        "  cenB = []\n",
        "\n",
        "  for i in range(k):\n",
        "      cenA = [x[0] for x in A if x[2] == i]\n",
        "      cenB = [x[1] for x in A if x[2] == i]\n",
        "      cenBaru.append([sum(cenA)/len(cenA), sum(cenB)/len(cenB)])\n",
        "      \n",
        "  return cenBaru"
      ],
      "execution_count": null,
      "outputs": []
    },
    {
      "cell_type": "code",
      "metadata": {
        "id": "FPSCyrBfqpBd"
      },
      "source": [
        "def kmeans(data, k):\n",
        "  cent = [data[np.random.randint(0, len(data))] for x in range(k)]\n",
        "  cenBaru2 = []\n",
        "\n",
        "  while True:\n",
        "      clus = cluster(data, cent, k)\n",
        "\n",
        "      cenBaru2 = centroid(clus, k)\n",
        "      print(cenBaru2)\n",
        "\n",
        "      if cent == cenBaru2:\n",
        "        print(\"DONE!!!\")\n",
        "        break\n",
        "      cent = cenBaru2\n",
        "  return clus, cent"
      ],
      "execution_count": null,
      "outputs": []
    },
    {
      "cell_type": "code",
      "metadata": {
        "colab": {
          "base_uri": "https://localhost:8080/"
        },
        "id": "LzFd079urqIQ",
        "outputId": "58ec7936-0411-4b33-99a9-401681e1714a"
      },
      "source": [
        "# main program\n",
        "\n",
        "k = 3\n",
        "data = df_data_pca.to_numpy().tolist()\n",
        "clus, cent = kmeans(data, k)"
      ],
      "execution_count": null,
      "outputs": [
        {
          "output_type": "stream",
          "name": "stdout",
          "text": [
            "[[-15825.973303195127, -1.0086937946545642], [12083.232091512284, 3.6935571837529615], [850.9038912110764, -6.515655760034516]]\n",
            "[[-23962.963092404483, 5.649099264902437], [14430.19212541631, 5.708525099947638], [239.06570924642938, -6.8250643092830865]]\n",
            "[[-26308.85965933106, 8.767504377207736], [15102.464652945684, 6.382275054997979], [81.10988672496966, -6.95959127917023]]\n",
            "[[-26472.90989147453, 9.10233461509198], [15301.195960882576, 6.527835765821087], [142.07151120042107, -6.893319407550865]]\n",
            "[[-26476.381182923826, 9.113902819403359], [15401.918758893464, 6.602510374294682], [197.22608040728286, -6.837710668564556]]\n",
            "[[-26474.173379254167, 9.106727319128643], [15462.873215162104, 6.656717569603652], [231.84655874468086, -6.806422563484262]]\n",
            "[[-26472.90989147453, 9.10233461509198], [15502.206367829505, 6.674935551156439], [254.05766311956265, -6.776973353847934]]\n",
            "[[-26472.27753920438, 9.100258550080474], [15524.610290721985, 6.687958648141374], [266.64815566991905, -6.761869301965537]]\n",
            "[[-26471.961290957177, 9.09898173123904], [15540.815890896405, 6.708669710825039], [275.6936431353953, -6.757239969695813]]\n",
            "[[-26471.644939370162, 9.097708996486821], [15550.574662916057, 6.719915873199018], [281.1760897191418, -6.753652117278551]]\n",
            "[[-26471.012044357874, 9.095548737007533], [15558.368425274974, 6.723896851271752], [285.6766675517664, -6.747800316600807]]\n",
            "[[-26470.695548335578, 9.094466621481786], [15564.190862041067, 6.728288730041168], [288.9840102087537, -6.74433041876175]]\n",
            "[[-26470.695548335578, 9.094466621481786], [15567.708038721103, 6.739033066542688], [290.91705045178605, -6.746827889386586]]\n",
            "[[-26470.695548335578, 9.094466621481786], [15568.917317634476, 6.740442136152738], [291.5815811411733, -6.7464290366756465]]\n",
            "[[-26470.062411679784, 9.09301199192812], [15569.13717949237, 6.737976951856243], [291.914129415669, -6.744624673125241]]\n",
            "[[-26470.062411679784, 9.09301199192812], [15569.90669655333, 6.733449062003081], [292.33708110280054, -6.741389339088412]]\n",
            "[[-26470.062411679784, 9.09301199192812], [15569.90669655333, 6.733449062003081], [292.33708110280054, -6.741389339088412]]\n",
            "DONE!!!\n"
          ]
        }
      ]
    },
    {
      "cell_type": "code",
      "metadata": {
        "id": "aGgkePpcwPoe"
      },
      "source": [
        "#visualisasi clustering\n",
        "def visualisasi(clus, cent, k):\n",
        "  plt.subplots(figsize=(14,6))\n",
        "  \n",
        "  for i in range(k):\n",
        "      plt.scatter([j[0] for j in clus if j[2] == i], \n",
        "                  [j[1] for j in clus if j[2] == i])\n",
        "  \n",
        "  for i in range(k):\n",
        "      plt.scatter([j[0] for j in cent], \n",
        "                  [j[1] for j in cent], s=100, color='black')\n"
      ],
      "execution_count": null,
      "outputs": []
    },
    {
      "cell_type": "code",
      "metadata": {
        "colab": {
          "base_uri": "https://localhost:8080/",
          "height": 374
        },
        "id": "IU5qt986xeae",
        "outputId": "167bee2b-0eb3-4030-81fe-63424dd76b72"
      },
      "source": [
        "# pemanggilan fungsi\n",
        "visualisasi(clus, cent, k)"
      ],
      "execution_count": null,
      "outputs": [
        {
          "output_type": "display_data",
          "data": {
            "image/png": "[encoded data removed]",
            "text/plain": [
              "<Figure size 1008x432 with 1 Axes>"
            ]
          },
          "metadata": {
            "needs_background": "light"
          }
        }
      ]
    },
    {
      "cell_type": "markdown",
      "metadata": {
        "id": "LVKNLJWlzOhl"
      },
      "source": [
        "## **Evaluasi**"
      ]
    },
    {
      "cell_type": "code",
      "metadata": {
        "id": "9y2nNWUJzNoT"
      },
      "source": [
        "distortions = []\n",
        "mapping = {}\n",
        "K = range(1, 11)\n",
        "\n",
        "for k in K :\n",
        "  model = KMeans(n_clusters=k).fit(df_dtnonpca)\n",
        "  model.fit(df_dtnonpca)\n",
        "\n",
        "  distortions.append(sum(np.min(cdist(df_dtnonpca, model.cluster_centers_,'euclidean'),axis=1)) / df_dtnonpca.shape[0])\n",
        "  \n",
        "  mapping[k] = sum(np.min(cdist(df_dtnonpca, model.cluster_centers_,'euclidean'), axis=1)) / df_dtnonpca.shape[0]\n"
      ],
      "execution_count": null,
      "outputs": []
    },
    {
      "cell_type": "code",
      "metadata": {
        "colab": {
          "base_uri": "https://localhost:8080/",
          "height": 295
        },
        "id": "VxK5aXsM1NhY",
        "outputId": "89c7d9d9-165f-4367-d555-589c20237773"
      },
      "source": [
        "plt.plot(K, distortions, 'bx-')\n",
        "plt.xlabel('Nilai K')\n",
        "plt.ylabel('Distortion')\n",
        "plt.title('Evaluasi Jumlah Cluster Dengan Elbow')\n",
        "plt.show()"
      ],
      "execution_count": null,
      "outputs": [
        {
          "output_type": "display_data",
          "data": {
            "image/png": "[encoded data removed]",
            "text/plain": [
              "<Figure size 432x288 with 1 Axes>"
            ]
          },
          "metadata": {
            "needs_background": "light"
          }
        }
      ]
    },
    {
      "cell_type": "markdown",
      "metadata": {
        "id": "hhzISPBDQU2A"
      },
      "source": [
        "## **Eksperimen**"
      ]
    },
    {
      "cell_type": "code",
      "metadata": {
        "colab": {
          "base_uri": "https://localhost:8080/"
        },
        "id": "mGdWKuGPQbO6",
        "outputId": "4b9aa7e6-9796-4331-daf7-c74efcb3854a"
      },
      "source": [
        "k = 3\n",
        "data = df_dtnonpca.to_numpy().tolist()\n",
        "clus, cent = kmeans(data, k)"
      ],
      "execution_count": null,
      "outputs": [
        {
          "output_type": "stream",
          "name": "stdout",
          "text": [
            "[[25861.731319222617, 123.3788398961101], [39587.99891828409, 106.47887563357646], [2630.536484900735, 113.89649639581387]]\n",
            "[[27343.402177276745, 121.51319628647215], [41404.375236312764, 104.2779510738052], [2667.55645180536, 113.98355726320311]]\n",
            "[[28201.99370498443, 120.43912270981794], [42633.294196087, 102.79346376653186], [2695.000190480726, 114.04262006238244]]\n",
            "[[28722.212442599786, 119.79211409395973], [43440.03859894752, 101.82591850528654], [2719.9557303424185, 114.07931944015398]]\n",
            "[[29044.00550373528, 119.41397881230743], [43965.552800557016, 101.16285006962711], [2741.6327513403235, 114.11436637092565]]\n",
            "[[29235.101029876285, 119.19924651224007], [44289.186489646185, 100.73981751481516], [2752.7887888125147, 114.12588291064233]]\n",
            "[[29351.73462691404, 119.07023414080855], [44488.91063771113, 100.46912099276112], [2762.1616058739933, 114.1444339175746]]\n",
            "[[29420.639248028525, 118.97818126335062], [44608.25224405203, 100.33489238352635], [2767.813059330461, 114.15426866802406]]\n",
            "[[29466.01097865749, 118.91652228068635], [44687.169762736805, 100.251114160807], [2771.9072447989397, 114.1565643416724]]\n",
            "[[29492.830851986535, 118.8758822640068], [44734.36986632881, 100.20557461528607], [2773.8004590955343, 114.16210332015997]]\n",
            "[[29508.662156045266, 118.85383363112965], [44762.42567509644, 100.17519645663666], [2774.74815428301, 114.1649077141505]]\n",
            "[[29519.489944169523, 118.83784576830351], [44781.460352927694, 100.15599576028417], [2775.696756027731, 114.16775903272367]]\n",
            "[[29526.059293830527, 118.83257793061917], [44793.18537061212, 100.13626647922077], [2776.013108082529, 114.16884346015522]]\n",
            "[[29531.46642541533, 118.82625152431781], [44802.62015425937, 100.12369475604326], [2776.6460038801874, 114.1706336062083]]\n",
            "[[29535.558919201274, 118.82299309067598], [44809.868640108114, 100.11139065802148], [2776.962500295739, 114.17152861570493]]\n",
            "[[29537.673017581063, 118.82017786780182], [44813.71502545957, 100.10708840367079], [2776.962500295739, 114.17152861570493]]\n",
            "[[29539.002056831847, 118.81960002531486], [44816.13332374101, 100.10221582733813], [2776.962500295739, 114.17152861570493]]\n",
            "[[29539.364548230416, 118.81858022054519], [44816.79293176389, 100.10245488819179], [2776.962500295739, 114.17152861570493]]\n",
            "[[29539.757528774277, 118.8179013566428], [44817.122706537535, 100.10232979810336], [2777.5956374648085, 114.17265608365469]]\n",
            "[[29539.99920897966, 118.81496452273788], [44817.56245053031, 100.1065954782909], [2777.5956374648085, 114.17265608365469]]\n",
            "[[29539.99920897966, 118.81496452273788], [44817.56245053031, 100.1065954782909], [2777.5956374648085, 114.17265608365469]]\n",
            "DONE!!!\n"
          ]
        }
      ]
    },
    {
      "cell_type": "code",
      "metadata": {
        "colab": {
          "base_uri": "https://localhost:8080/",
          "height": 374
        },
        "id": "6XherGJ6Q7ed",
        "outputId": "6d5c7f9f-7de8-49d7-e039-c6ca6a5b7de5"
      },
      "source": [
        "visualisasi(clus, cent, k)"
      ],
      "execution_count": null,
      "outputs": [
        {
          "output_type": "display_data",
          "data": {
            "image/png": "[encoded data removed]",
            "text/plain": [
              "<Figure size 1008x432 with 1 Axes>"
            ]
          },
          "metadata": {
            "needs_background": "light"
          }
        }
      ]
    }
  ]
}